{
 "cells": [
  {
   "cell_type": "code",
   "execution_count": 1,
   "metadata": {},
   "outputs": [],
   "source": [
    "%load_ext autoreload\n",
    "%autoreload 2"
   ]
  },
  {
   "cell_type": "code",
   "execution_count": 2,
   "metadata": {},
   "outputs": [
    {
     "name": "stdout",
     "output_type": "stream",
     "text": [
      "Font size is set to 10\n"
     ]
    }
   ],
   "source": [
    "import os, sys \n",
    "import numpy as np \n",
    "import pandas as pd \n",
    "import matplotlib.pyplot as plt\n",
    "from shapely.geometry import Point, Polygon\n",
    "import geopandas as gpd\n",
    "import h3pandas \n",
    "sys.path.append('../../../reproducible_figures/scripts/')\n",
    "import rep_fig_vis as rfv\n",
    "sys.path.append('../../scripts/')\n",
    "import create_dataset_utils as cdu\n",
    "sys.path.append('../../../cnn-land-cover/scripts/')\n",
    "import land_cover_analysis as lca \n",
    "import land_cover_visualisation as lcv\n",
    "\n",
    "sys.path.append('../../scripts/')\n",
    "import create_dataset_utils as cdu\n",
    "import paired_embeddings_models as pem\n",
    "import data_vis_utils as dvu\n",
    "import shapely\n",
    "from tqdm import tqdm, tqdm_notebook\n",
    "import os\n",
    "import pandas as pd"
   ]
  },
  {
   "cell_type": "code",
   "execution_count": 15,
   "metadata": {},
   "outputs": [
    {
     "name": "stdout",
     "output_type": "stream",
     "text": [
      "Loaded stats from PECL-ImEn_2024-03-02-0232_vnum-243_stats.pkl at /Users/t.vanderplas/models/PECL/stats/\n"
     ]
    }
   ],
   "source": [
    "tmp = pem.load_stats(timestamp='2024-03-02-0232')"
   ]
  },
  {
   "cell_type": "code",
   "execution_count": 267,
   "metadata": {},
   "outputs": [
    {
     "name": "stdout",
     "output_type": "stream",
     "text": [
      "Font size is set to 10\n",
      "Loaded stats from PECL-ImEn_2024-02-28-1627_vnum-164_stats.pkl at /Users/t.vanderplas/models/PECL/stats/\n",
      "Loaded stats from PECL-ImEn_2024-02-28-1705_vnum-165_stats.pkl at /Users/t.vanderplas/models/PECL/stats/\n",
      "Loaded stats from PECL-ImEn_2024-02-28-1752_vnum-166_stats.pkl at /Users/t.vanderplas/models/PECL/stats/\n",
      "Loaded stats from PECL-ImEn_2024-02-28-2304_vnum-167_stats.pkl at /Users/t.vanderplas/models/PECL/stats/\n",
      "Loaded stats from PECL-ImEn_2024-02-29-1016_vnum-168_stats.pkl at /Users/t.vanderplas/models/PECL/stats/\n",
      "Loaded stats from PECL-ImEn_2024-02-29-1039_vnum-169_stats.pkl at /Users/t.vanderplas/models/PECL/stats/\n",
      "Loaded stats from PECL-ImEn_2024-02-29-1106_vnum-170_stats.pkl at /Users/t.vanderplas/models/PECL/stats/\n",
      "Index(['val_top_1_acc', 'val_pred-bce_pecl-softmax_loss', 'val_ce_loss',\n",
      "       'val_bce_loss', 'val_weighted-ce_loss', 'val_top_20_acc', 'val_loss',\n",
      "       'val_top_5_acc', 'val_mae_loss', 'val_distance_pred_label_means',\n",
      "       'val_weighted-bce_loss', 'val_top_10_acc',\n",
      "       'train_pred-bce_pecl-softmax_loss', 'val_mse_loss'],\n",
      "      dtype='object')\n",
      "Index(['val_top_1_acc', 'val_pred-bce_pecl-softmax_loss', 'val_ce_loss',\n",
      "       'val_bce_loss', 'val_weighted-ce_loss', 'val_top_20_acc', 'val_loss',\n",
      "       'val_top_5_acc', 'val_mae_loss', 'val_distance_pred_label_means',\n",
      "       'val_weighted-bce_loss', 'val_top_10_acc',\n",
      "       'train_pred-bce_pecl-softmax_loss', 'val_mse_loss'],\n",
      "      dtype='object')\n",
      "Index(['val_top_1_acc', 'val_pred-bce_pecl-softmax_loss', 'val_ce_loss',\n",
      "       'val_bce_loss', 'val_weighted-ce_loss', 'val_top_20_acc', 'val_loss',\n",
      "       'val_top_5_acc', 'val_mae_loss', 'val_distance_pred_label_means',\n",
      "       'val_weighted-bce_loss', 'val_top_10_acc',\n",
      "       'train_pred-bce_pecl-softmax_loss', 'val_mse_loss'],\n",
      "      dtype='object')\n",
      "Index(['val_top_1_acc', 'val_pred-bce_pecl-softmax_loss', 'val_ce_loss',\n",
      "       'val_bce_loss', 'val_weighted-ce_loss', 'val_top_20_acc', 'val_loss',\n",
      "       'val_top_5_acc', 'val_mae_loss', 'val_distance_pred_label_means',\n",
      "       'val_weighted-bce_loss', 'val_top_10_acc',\n",
      "       'train_pred-bce_pecl-softmax_loss', 'val_mse_loss'],\n",
      "      dtype='object')\n",
      "Index(['val_top_1_acc', 'val_pred-bce_pecl-softmax_loss', 'val_ce_loss',\n",
      "       'val_bce_loss', 'val_weighted-ce_loss', 'val_top_20_acc', 'val_loss',\n",
      "       'val_top_5_acc', 'val_mae_loss', 'val_distance_pred_label_means',\n",
      "       'val_weighted-bce_loss', 'val_top_10_acc',\n",
      "       'train_pred-bce_pecl-softmax_loss', 'val_mse_loss'],\n",
      "      dtype='object')\n",
      "Index(['val_top_1_acc', 'val_pred-bce_pecl-softmax_loss', 'val_ce_loss',\n",
      "       'val_bce_loss', 'val_weighted-ce_loss', 'val_top_20_acc', 'val_loss',\n",
      "       'val_top_5_acc', 'val_mae_loss', 'val_distance_pred_label_means',\n",
      "       'val_weighted-bce_loss', 'val_top_10_acc',\n",
      "       'train_pred-bce_pecl-softmax_loss', 'val_mse_loss'],\n",
      "      dtype='object')\n",
      "Index(['val_top_1_acc', 'val_pred-bce_pecl-softmax_loss', 'val_ce_loss',\n",
      "       'val_bce_loss', 'val_weighted-ce_loss', 'val_top_20_acc', 'val_loss',\n",
      "       'val_top_5_acc', 'val_mae_loss', 'val_distance_pred_label_means',\n",
      "       'val_weighted-bce_loss', 'val_top_10_acc',\n",
      "       'train_pred-bce_pecl-softmax_loss', 'val_mse_loss'],\n",
      "      dtype='object')\n"
     ]
    }
   ],
   "source": [
    "# tmp_df, tmp_details = dvu.create_df_list_timestamps(list_ts=[\n",
    "#     '2024-03-01-0055', \n",
    "#     '2024-03-01-0109', \n",
    "#     '2024-03-01-0125', \n",
    "#     '2024-03-01-0146', \n",
    "#     '2024-03-01-0205', \n",
    "#     '2024-03-01-0222',\n",
    "#     ])\n",
    "\n",
    "tmp_df, tmp_details = dvu.create_df_list_timestamps(list_ts=dvu.get_list_timestamps_from_vnums(\n",
    "    list_vnums=np.arange(164, 171)\n",
    "))"
   ]
  },
  {
   "cell_type": "code",
   "execution_count": 272,
   "metadata": {},
   "outputs": [
    {
     "name": "stdout",
     "output_type": "stream",
     "text": [
      "Font size is set to 10\n",
      "Hyperparameter alpha_ratio_loss has 7 unique values\n",
      "Column seed_used has only one unique value: 42\n",
      "No hyperparameters to show specified, using ['alpha_ratio_loss']\n"
     ]
    }
   ],
   "source": [
    "df_print = dvu.create_printable_table(df=tmp_df, hparams_use=tmp_details[1], metrics_use=tmp_details[2],\n",
    "                           metric_optimise=tmp_details[3], # hparam_show='alpha_ratio_loss',\n",
    "                           save_table=False, filename='tab_test.tex', highlight_best_row=True,\n",
    "                           label_tex='tab:test', caption_tex='Test table')"
   ]
  },
  {
   "cell_type": "code",
   "execution_count": 270,
   "metadata": {},
   "outputs": [
    {
     "data": {
      "text/plain": [
       "Index(['timestamp', 'n_species', 'n_enc_channels', 'n_bands',\n",
       "       'n_layers_mlp_resnet', 'n_layers_mlp_pred', 'pretrained_resnet',\n",
       "       'freeze_resnet', 'optimizer_name', 'resnet_version',\n",
       "       'pecl_distance_metric', 'pred_train_loss', 'lr', 'pecl_knn',\n",
       "       'pecl_knn_hard_labels', 'training_method', 'alpha_ratio_loss',\n",
       "       'normalise_embedding', 'use_mps', 'use_lr_scheduler', 'seed_used',\n",
       "       'batch_size_used', 'verbose', 'time_created', 'name_train_loss',\n",
       "       'n_epochs_converged', 'val_top_20_acc', 'val_top_10_acc',\n",
       "       'val_top_5_acc', 'val_top_1_acc', 'val_bce_loss', 'val_mse_loss'],\n",
       "      dtype='object')"
      ]
     },
     "execution_count": 270,
     "metadata": {},
     "output_type": "execute_result"
    }
   ],
   "source": [
    "tmp_df.columns"
   ]
  },
  {
   "cell_type": "code",
   "execution_count": 274,
   "metadata": {},
   "outputs": [
    {
     "data": {
      "text/html": [
       "<div>\n",
       "<style scoped>\n",
       "    .dataframe tbody tr th:only-of-type {\n",
       "        vertical-align: middle;\n",
       "    }\n",
       "\n",
       "    .dataframe tbody tr th {\n",
       "        vertical-align: top;\n",
       "    }\n",
       "\n",
       "    .dataframe thead tr th {\n",
       "        text-align: left;\n",
       "    }\n",
       "</style>\n",
       "<table border=\"1\" class=\"dataframe\">\n",
       "  <thead>\n",
       "    <tr>\n",
       "      <th></th>\n",
       "      <th>alpha_ratio_loss</th>\n",
       "      <th colspan=\"2\" halign=\"left\">Top-10</th>\n",
       "      <th colspan=\"2\" halign=\"left\">Top-5</th>\n",
       "      <th colspan=\"2\" halign=\"left\">MSE</th>\n",
       "    </tr>\n",
       "    <tr>\n",
       "      <th></th>\n",
       "      <th></th>\n",
       "      <th>mean</th>\n",
       "      <th>sem</th>\n",
       "      <th>mean</th>\n",
       "      <th>sem</th>\n",
       "      <th>mean</th>\n",
       "      <th>sem</th>\n",
       "    </tr>\n",
       "  </thead>\n",
       "  <tbody>\n",
       "    <tr>\n",
       "      <th>0</th>\n",
       "      <td>0.00</td>\n",
       "      <td>0.708209</td>\n",
       "      <td>NaN</td>\n",
       "      <td>0.608209</td>\n",
       "      <td>NaN</td>\n",
       "      <td>0.012109</td>\n",
       "      <td>NaN</td>\n",
       "    </tr>\n",
       "    <tr>\n",
       "      <th>1</th>\n",
       "      <td>0.02</td>\n",
       "      <td>0.709702</td>\n",
       "      <td>NaN</td>\n",
       "      <td>0.617164</td>\n",
       "      <td>NaN</td>\n",
       "      <td>0.012072</td>\n",
       "      <td>NaN</td>\n",
       "    </tr>\n",
       "    <tr>\n",
       "      <th>2</th>\n",
       "      <td>0.05</td>\n",
       "      <td>0.709701</td>\n",
       "      <td>NaN</td>\n",
       "      <td>0.614179</td>\n",
       "      <td>NaN</td>\n",
       "      <td>0.012175</td>\n",
       "      <td>NaN</td>\n",
       "    </tr>\n",
       "    <tr>\n",
       "      <th>3</th>\n",
       "      <td>0.10</td>\n",
       "      <td>0.710821</td>\n",
       "      <td>NaN</td>\n",
       "      <td>0.620149</td>\n",
       "      <td>NaN</td>\n",
       "      <td>0.012222</td>\n",
       "      <td>NaN</td>\n",
       "    </tr>\n",
       "    <tr>\n",
       "      <th>4</th>\n",
       "      <td>0.20</td>\n",
       "      <td>0.710821</td>\n",
       "      <td>NaN</td>\n",
       "      <td>0.614925</td>\n",
       "      <td>NaN</td>\n",
       "      <td>0.012278</td>\n",
       "      <td>NaN</td>\n",
       "    </tr>\n",
       "    <tr>\n",
       "      <th>5</th>\n",
       "      <td>0.50</td>\n",
       "      <td>0.706343</td>\n",
       "      <td>NaN</td>\n",
       "      <td>0.614925</td>\n",
       "      <td>NaN</td>\n",
       "      <td>0.012392</td>\n",
       "      <td>NaN</td>\n",
       "    </tr>\n",
       "    <tr>\n",
       "      <th>6</th>\n",
       "      <td>1.00</td>\n",
       "      <td>0.710075</td>\n",
       "      <td>NaN</td>\n",
       "      <td>0.615672</td>\n",
       "      <td>NaN</td>\n",
       "      <td>0.012456</td>\n",
       "      <td>NaN</td>\n",
       "    </tr>\n",
       "  </tbody>\n",
       "</table>\n",
       "</div>"
      ],
      "text/plain": [
       "  alpha_ratio_loss    Top-10         Top-5           MSE    \n",
       "                        mean sem      mean sem      mean sem\n",
       "0             0.00  0.708209 NaN  0.608209 NaN  0.012109 NaN\n",
       "1             0.02  0.709702 NaN  0.617164 NaN  0.012072 NaN\n",
       "2             0.05  0.709701 NaN  0.614179 NaN  0.012175 NaN\n",
       "3             0.10  0.710821 NaN  0.620149 NaN  0.012222 NaN\n",
       "4             0.20  0.710821 NaN  0.614925 NaN  0.012278 NaN\n",
       "5             0.50  0.706343 NaN  0.614925 NaN  0.012392 NaN\n",
       "6             1.00  0.710075 NaN  0.615672 NaN  0.012456 NaN"
      ]
     },
     "execution_count": 274,
     "metadata": {},
     "output_type": "execute_result"
    }
   ],
   "source": [
    "df_print[0]"
   ]
  },
  {
   "cell_type": "code",
   "execution_count": 275,
   "metadata": {},
   "outputs": [
    {
     "name": "stdout",
     "output_type": "stream",
     "text": [
      "Font size is set to 10\n"
     ]
    },
    {
     "data": {
      "text/html": [
       "<div>\n",
       "<style scoped>\n",
       "    .dataframe tbody tr th:only-of-type {\n",
       "        vertical-align: middle;\n",
       "    }\n",
       "\n",
       "    .dataframe tbody tr th {\n",
       "        vertical-align: top;\n",
       "    }\n",
       "\n",
       "    .dataframe thead th {\n",
       "        text-align: right;\n",
       "    }\n",
       "</style>\n",
       "<table border=\"1\" class=\"dataframe\">\n",
       "  <thead>\n",
       "    <tr style=\"text-align: right;\">\n",
       "      <th></th>\n",
       "      <th>$\\alpha$</th>\n",
       "      <th>Top-10 [\\%]</th>\n",
       "      <th>Top-5 [\\%]</th>\n",
       "      <th>MSE [1e-02]</th>\n",
       "    </tr>\n",
       "  </thead>\n",
       "  <tbody>\n",
       "    <tr>\n",
       "      <th>0</th>\n",
       "      <td>0.0</td>\n",
       "      <td>70.8 $\\pm$ nan</td>\n",
       "      <td>60.8 $\\pm$ nan</td>\n",
       "      <td>1.21 $\\pm$ nan</td>\n",
       "    </tr>\n",
       "    <tr>\n",
       "      <th>1</th>\n",
       "      <td>0.02</td>\n",
       "      <td>71.0 $\\pm$ nan</td>\n",
       "      <td>61.7 $\\pm$ nan</td>\n",
       "      <td>\\textbf{1.21 $\\pm$ nan}</td>\n",
       "    </tr>\n",
       "    <tr>\n",
       "      <th>2</th>\n",
       "      <td>0.05</td>\n",
       "      <td>71.0 $\\pm$ nan</td>\n",
       "      <td>61.4 $\\pm$ nan</td>\n",
       "      <td>1.22 $\\pm$ nan</td>\n",
       "    </tr>\n",
       "    <tr>\n",
       "      <th>3</th>\n",
       "      <td>0.1</td>\n",
       "      <td>71.1 $\\pm$ nan</td>\n",
       "      <td>\\textbf{62.0 $\\pm$ nan}</td>\n",
       "      <td>1.22 $\\pm$ nan</td>\n",
       "    </tr>\n",
       "    <tr>\n",
       "      <th>4</th>\n",
       "      <td>0.2</td>\n",
       "      <td>\\textbf{71.1 $\\pm$ nan}</td>\n",
       "      <td>61.5 $\\pm$ nan</td>\n",
       "      <td>1.23 $\\pm$ nan</td>\n",
       "    </tr>\n",
       "    <tr>\n",
       "      <th>5</th>\n",
       "      <td>0.5</td>\n",
       "      <td>70.6 $\\pm$ nan</td>\n",
       "      <td>61.5 $\\pm$ nan</td>\n",
       "      <td>1.24 $\\pm$ nan</td>\n",
       "    </tr>\n",
       "    <tr>\n",
       "      <th>6</th>\n",
       "      <td>1.0</td>\n",
       "      <td>71.0 $\\pm$ nan</td>\n",
       "      <td>61.6 $\\pm$ nan</td>\n",
       "      <td>1.25 $\\pm$ nan</td>\n",
       "    </tr>\n",
       "  </tbody>\n",
       "</table>\n",
       "</div>"
      ],
      "text/plain": [
       "  $\\alpha$              Top-10 [\\%]               Top-5 [\\%]  \\\n",
       "0      0.0           70.8 $\\pm$ nan           60.8 $\\pm$ nan   \n",
       "1     0.02           71.0 $\\pm$ nan           61.7 $\\pm$ nan   \n",
       "2     0.05           71.0 $\\pm$ nan           61.4 $\\pm$ nan   \n",
       "3      0.1           71.1 $\\pm$ nan  \\textbf{62.0 $\\pm$ nan}   \n",
       "4      0.2  \\textbf{71.1 $\\pm$ nan}           61.5 $\\pm$ nan   \n",
       "5      0.5           70.6 $\\pm$ nan           61.5 $\\pm$ nan   \n",
       "6      1.0           71.0 $\\pm$ nan           61.6 $\\pm$ nan   \n",
       "\n",
       "               MSE [1e-02]  \n",
       "0           1.21 $\\pm$ nan  \n",
       "1  \\textbf{1.21 $\\pm$ nan}  \n",
       "2           1.22 $\\pm$ nan  \n",
       "3           1.22 $\\pm$ nan  \n",
       "4           1.23 $\\pm$ nan  \n",
       "5           1.24 $\\pm$ nan  \n",
       "6           1.25 $\\pm$ nan  "
      ]
     },
     "execution_count": 275,
     "metadata": {},
     "output_type": "execute_result"
    }
   ],
   "source": [
    "df_print[1]"
   ]
  },
  {
   "cell_type": "code",
   "execution_count": 276,
   "metadata": {},
   "outputs": [
    {
     "name": "stdout",
     "output_type": "stream",
     "text": [
      "Font size is set to 10\n",
      "Loaded stats from PECL-ImEn_2024-02-28-1627_vnum-164_stats.pkl at /Users/t.vanderplas/models/PECL/stats/\n",
      "Loaded stats from PECL-ImEn_2024-02-28-1705_vnum-165_stats.pkl at /Users/t.vanderplas/models/PECL/stats/\n",
      "Loaded stats from PECL-ImEn_2024-02-28-1752_vnum-166_stats.pkl at /Users/t.vanderplas/models/PECL/stats/\n",
      "Loaded stats from PECL-ImEn_2024-02-28-2304_vnum-167_stats.pkl at /Users/t.vanderplas/models/PECL/stats/\n",
      "Loaded stats from PECL-ImEn_2024-02-29-1016_vnum-168_stats.pkl at /Users/t.vanderplas/models/PECL/stats/\n",
      "Loaded stats from PECL-ImEn_2024-02-29-1039_vnum-169_stats.pkl at /Users/t.vanderplas/models/PECL/stats/\n",
      "Loaded stats from PECL-ImEn_2024-02-29-1106_vnum-170_stats.pkl at /Users/t.vanderplas/models/PECL/stats/\n",
      "Index(['val_top_1_acc', 'val_pred-bce_pecl-softmax_loss', 'val_ce_loss',\n",
      "       'val_bce_loss', 'val_weighted-ce_loss', 'val_top_20_acc', 'val_loss',\n",
      "       'val_top_5_acc', 'val_mae_loss', 'val_distance_pred_label_means',\n",
      "       'val_weighted-bce_loss', 'val_top_10_acc',\n",
      "       'train_pred-bce_pecl-softmax_loss', 'val_mse_loss'],\n",
      "      dtype='object')\n",
      "Index(['val_top_1_acc', 'val_pred-bce_pecl-softmax_loss', 'val_ce_loss',\n",
      "       'val_bce_loss', 'val_weighted-ce_loss', 'val_top_20_acc', 'val_loss',\n",
      "       'val_top_5_acc', 'val_mae_loss', 'val_distance_pred_label_means',\n",
      "       'val_weighted-bce_loss', 'val_top_10_acc',\n",
      "       'train_pred-bce_pecl-softmax_loss', 'val_mse_loss'],\n",
      "      dtype='object')\n",
      "Index(['val_top_1_acc', 'val_pred-bce_pecl-softmax_loss', 'val_ce_loss',\n",
      "       'val_bce_loss', 'val_weighted-ce_loss', 'val_top_20_acc', 'val_loss',\n",
      "       'val_top_5_acc', 'val_mae_loss', 'val_distance_pred_label_means',\n",
      "       'val_weighted-bce_loss', 'val_top_10_acc',\n",
      "       'train_pred-bce_pecl-softmax_loss', 'val_mse_loss'],\n",
      "      dtype='object')\n",
      "Index(['val_top_1_acc', 'val_pred-bce_pecl-softmax_loss', 'val_ce_loss',\n",
      "       'val_bce_loss', 'val_weighted-ce_loss', 'val_top_20_acc', 'val_loss',\n",
      "       'val_top_5_acc', 'val_mae_loss', 'val_distance_pred_label_means',\n",
      "       'val_weighted-bce_loss', 'val_top_10_acc',\n",
      "       'train_pred-bce_pecl-softmax_loss', 'val_mse_loss'],\n",
      "      dtype='object')\n",
      "Index(['val_top_1_acc', 'val_pred-bce_pecl-softmax_loss', 'val_ce_loss',\n",
      "       'val_bce_loss', 'val_weighted-ce_loss', 'val_top_20_acc', 'val_loss',\n",
      "       'val_top_5_acc', 'val_mae_loss', 'val_distance_pred_label_means',\n",
      "       'val_weighted-bce_loss', 'val_top_10_acc',\n",
      "       'train_pred-bce_pecl-softmax_loss', 'val_mse_loss'],\n",
      "      dtype='object')\n",
      "Index(['val_top_1_acc', 'val_pred-bce_pecl-softmax_loss', 'val_ce_loss',\n",
      "       'val_bce_loss', 'val_weighted-ce_loss', 'val_top_20_acc', 'val_loss',\n",
      "       'val_top_5_acc', 'val_mae_loss', 'val_distance_pred_label_means',\n",
      "       'val_weighted-bce_loss', 'val_top_10_acc',\n",
      "       'train_pred-bce_pecl-softmax_loss', 'val_mse_loss'],\n",
      "      dtype='object')\n",
      "Index(['val_top_1_acc', 'val_pred-bce_pecl-softmax_loss', 'val_ce_loss',\n",
      "       'val_bce_loss', 'val_weighted-ce_loss', 'val_top_20_acc', 'val_loss',\n",
      "       'val_top_5_acc', 'val_mae_loss', 'val_distance_pred_label_means',\n",
      "       'val_weighted-bce_loss', 'val_top_10_acc',\n",
      "       'train_pred-bce_pecl-softmax_loss', 'val_mse_loss'],\n",
      "      dtype='object')\n",
      "Hyperparameter alpha_ratio_loss has 7 unique values\n",
      "Column seed_used has only one unique value: 42\n",
      "No hyperparameters to show specified, using ['alpha_ratio_loss']\n"
     ]
    }
   ],
   "source": [
    "_ = dvu.print_table_alpha()"
   ]
  },
  {
   "cell_type": "code",
   "execution_count": null,
   "metadata": {},
   "outputs": [],
   "source": []
  }
 ],
 "metadata": {
  "kernelspec": {
   "display_name": "satbird",
   "language": "python",
   "name": "python3"
  },
  "language_info": {
   "codemirror_mode": {
    "name": "ipython",
    "version": 3
   },
   "file_extension": ".py",
   "mimetype": "text/x-python",
   "name": "python",
   "nbconvert_exporter": "python",
   "pygments_lexer": "ipython3",
   "version": "3.10.13"
  }
 },
 "nbformat": 4,
 "nbformat_minor": 2
}
