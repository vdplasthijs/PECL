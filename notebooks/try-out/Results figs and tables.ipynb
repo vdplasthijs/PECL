{
 "cells": [
  {
   "cell_type": "code",
   "execution_count": 1,
   "metadata": {},
   "outputs": [],
   "source": [
    "%load_ext autoreload\n",
    "%autoreload 2"
   ]
  },
  {
   "cell_type": "code",
   "execution_count": 2,
   "metadata": {},
   "outputs": [
    {
     "name": "stdout",
     "output_type": "stream",
     "text": [
      "Font size is set to 10\n"
     ]
    }
   ],
   "source": [
    "import os, sys \n",
    "import numpy as np \n",
    "import pandas as pd \n",
    "import matplotlib.pyplot as plt\n",
    "from shapely.geometry import Point, Polygon\n",
    "import geopandas as gpd\n",
    "import h3pandas \n",
    "sys.path.append('../../../reproducible_figures/scripts/')\n",
    "import rep_fig_vis as rfv\n",
    "sys.path.append('../../scripts/')\n",
    "import create_dataset_utils as cdu\n",
    "sys.path.append('../../../cnn-land-cover/scripts/')\n",
    "import land_cover_analysis as lca \n",
    "import land_cover_visualisation as lcv\n",
    "\n",
    "sys.path.append('../../scripts/')\n",
    "import create_dataset_utils as cdu\n",
    "import paired_embeddings_models as pem\n",
    "import data_vis_utils as dvu\n",
    "import shapely\n",
    "from tqdm import tqdm, tqdm_notebook\n",
    "import os\n",
    "import pandas as pd"
   ]
  },
  {
   "cell_type": "code",
   "execution_count": 15,
   "metadata": {},
   "outputs": [
    {
     "name": "stdout",
     "output_type": "stream",
     "text": [
      "Loaded stats from PECL-ImEn_2024-03-02-0232_vnum-243_stats.pkl at /Users/t.vanderplas/models/PECL/stats/\n"
     ]
    }
   ],
   "source": [
    "tmp = pem.load_stats(timestamp='2024-03-02-0232')"
   ]
  },
  {
   "cell_type": "code",
   "execution_count": 246,
   "metadata": {},
   "outputs": [
    {
     "name": "stdout",
     "output_type": "stream",
     "text": [
      "Font size is set to 10\n",
      "Loaded stats from PECL-ImEn_2024-02-29-2335_vnum-199_stats.pkl at /Users/t.vanderplas/models/PECL/stats/\n",
      "Loaded stats from PECL-ImEn_2024-02-29-2346_vnum-200_stats.pkl at /Users/t.vanderplas/models/PECL/stats/\n",
      "Loaded stats from PECL-ImEn_2024-02-29-2358_vnum-201_stats.pkl at /Users/t.vanderplas/models/PECL/stats/\n",
      "Loaded stats from PECL-ImEn_2024-03-01-0010_vnum-202_stats.pkl at /Users/t.vanderplas/models/PECL/stats/\n",
      "Loaded stats from PECL-ImEn_2024-03-01-0025_vnum-203_stats.pkl at /Users/t.vanderplas/models/PECL/stats/\n",
      "Loaded stats from PECL-ImEn_2024-03-01-0035_vnum-204_stats.pkl at /Users/t.vanderplas/models/PECL/stats/\n",
      "Loaded stats from PECL-ImEn_2024-03-01-0055_vnum-205_stats.pkl at /Users/t.vanderplas/models/PECL/stats/\n",
      "Loaded stats from PECL-ImEn_2024-03-01-0109_vnum-206_stats.pkl at /Users/t.vanderplas/models/PECL/stats/\n",
      "Loaded stats from PECL-ImEn_2024-03-01-0125_vnum-207_stats.pkl at /Users/t.vanderplas/models/PECL/stats/\n",
      "Loaded stats from PECL-ImEn_2024-03-01-0146_vnum-208_stats.pkl at /Users/t.vanderplas/models/PECL/stats/\n",
      "Loaded stats from PECL-ImEn_2024-03-01-0205_vnum-209_stats.pkl at /Users/t.vanderplas/models/PECL/stats/\n",
      "Loaded stats from PECL-ImEn_2024-03-01-0222_vnum-210_stats.pkl at /Users/t.vanderplas/models/PECL/stats/\n",
      "Loaded stats from PECL-ImEn_2024-03-01-0252_vnum-211_stats.pkl at /Users/t.vanderplas/models/PECL/stats/\n",
      "Loaded stats from PECL-ImEn_2024-03-01-0308_vnum-212_stats.pkl at /Users/t.vanderplas/models/PECL/stats/\n",
      "Loaded stats from PECL-ImEn_2024-03-01-0334_vnum-213_stats.pkl at /Users/t.vanderplas/models/PECL/stats/\n",
      "Loaded stats from PECL-ImEn_2024-03-01-0407_vnum-214_stats.pkl at /Users/t.vanderplas/models/PECL/stats/\n",
      "Loaded stats from PECL-ImEn_2024-03-01-0440_vnum-215_stats.pkl at /Users/t.vanderplas/models/PECL/stats/\n",
      "Loaded stats from PECL-ImEn_2024-03-01-0507_vnum-216_stats.pkl at /Users/t.vanderplas/models/PECL/stats/\n"
     ]
    }
   ],
   "source": [
    "# tmp_df, tmp_details = dvu.create_df_list_timestamps(list_ts=[\n",
    "#     '2024-03-01-0055', \n",
    "#     '2024-03-01-0109', \n",
    "#     '2024-03-01-0125', \n",
    "#     '2024-03-01-0146', \n",
    "#     '2024-03-01-0205', \n",
    "#     '2024-03-01-0222',\n",
    "#     ])\n",
    "\n",
    "tmp_df, tmp_details = dvu.create_df_list_timestamps(list_ts=dvu.get_list_timestamps_from_vnums(\n",
    "    list_vnums=np.arange(199, 217)\n",
    "))"
   ]
  },
  {
   "cell_type": "code",
   "execution_count": 251,
   "metadata": {},
   "outputs": [
    {
     "name": "stdout",
     "output_type": "stream",
     "text": [
      "Hyperparameter alpha_ratio_loss has 2 unique values\n",
      "Hyperparameter seed_used has 3 unique values\n",
      "Hyperparameter batch_size_used has 3 unique values\n",
      "No hyperparameters to show specified, using ['alpha_ratio_loss', 'batch_size_used']\n"
     ]
    }
   ],
   "source": [
    "df_print = dvu.create_printable_table(df=tmp_df, hparams_use=tmp_details[1], metrics_use=tmp_details[2],\n",
    "                           metric_optimise=tmp_details[3], # hparam_show='alpha_ratio_loss',\n",
    "                           save_table=True, filename='tab_test.tex', highlight_best_row=True)"
   ]
  },
  {
   "cell_type": "code",
   "execution_count": 249,
   "metadata": {},
   "outputs": [
    {
     "data": {
      "text/html": [
       "<div>\n",
       "<style scoped>\n",
       "    .dataframe tbody tr th:only-of-type {\n",
       "        vertical-align: middle;\n",
       "    }\n",
       "\n",
       "    .dataframe tbody tr th {\n",
       "        vertical-align: top;\n",
       "    }\n",
       "\n",
       "    .dataframe thead tr th {\n",
       "        text-align: left;\n",
       "    }\n",
       "</style>\n",
       "<table border=\"1\" class=\"dataframe\">\n",
       "  <thead>\n",
       "    <tr>\n",
       "      <th></th>\n",
       "      <th>alpha_ratio_loss</th>\n",
       "      <th>batch_size_used</th>\n",
       "      <th colspan=\"2\" halign=\"left\">Top-10</th>\n",
       "      <th colspan=\"2\" halign=\"left\">Top-5</th>\n",
       "      <th colspan=\"2\" halign=\"left\">MSE</th>\n",
       "    </tr>\n",
       "    <tr>\n",
       "      <th></th>\n",
       "      <th></th>\n",
       "      <th></th>\n",
       "      <th>mean</th>\n",
       "      <th>sem</th>\n",
       "      <th>mean</th>\n",
       "      <th>sem</th>\n",
       "      <th>mean</th>\n",
       "      <th>sem</th>\n",
       "    </tr>\n",
       "  </thead>\n",
       "  <tbody>\n",
       "    <tr>\n",
       "      <th>0</th>\n",
       "      <td>0.0</td>\n",
       "      <td>32</td>\n",
       "      <td>0.706468</td>\n",
       "      <td>0.003139</td>\n",
       "      <td>0.624378</td>\n",
       "      <td>0.006468</td>\n",
       "      <td>0.012006</td>\n",
       "      <td>0.000240</td>\n",
       "    </tr>\n",
       "    <tr>\n",
       "      <th>1</th>\n",
       "      <td>0.0</td>\n",
       "      <td>64</td>\n",
       "      <td>0.706841</td>\n",
       "      <td>0.001385</td>\n",
       "      <td>0.624129</td>\n",
       "      <td>0.007735</td>\n",
       "      <td>0.012137</td>\n",
       "      <td>0.000319</td>\n",
       "    </tr>\n",
       "    <tr>\n",
       "      <th>2</th>\n",
       "      <td>0.0</td>\n",
       "      <td>128</td>\n",
       "      <td>0.707463</td>\n",
       "      <td>0.002428</td>\n",
       "      <td>0.623881</td>\n",
       "      <td>0.007363</td>\n",
       "      <td>0.012064</td>\n",
       "      <td>0.000306</td>\n",
       "    </tr>\n",
       "    <tr>\n",
       "      <th>3</th>\n",
       "      <td>0.1</td>\n",
       "      <td>32</td>\n",
       "      <td>0.703358</td>\n",
       "      <td>0.002484</td>\n",
       "      <td>0.628358</td>\n",
       "      <td>0.003756</td>\n",
       "      <td>0.012225</td>\n",
       "      <td>0.000421</td>\n",
       "    </tr>\n",
       "    <tr>\n",
       "      <th>4</th>\n",
       "      <td>0.1</td>\n",
       "      <td>64</td>\n",
       "      <td>0.709080</td>\n",
       "      <td>0.002125</td>\n",
       "      <td>0.629602</td>\n",
       "      <td>0.005738</td>\n",
       "      <td>0.011985</td>\n",
       "      <td>0.000338</td>\n",
       "    </tr>\n",
       "    <tr>\n",
       "      <th>5</th>\n",
       "      <td>0.1</td>\n",
       "      <td>128</td>\n",
       "      <td>0.707338</td>\n",
       "      <td>0.001558</td>\n",
       "      <td>0.626119</td>\n",
       "      <td>0.006934</td>\n",
       "      <td>0.012188</td>\n",
       "      <td>0.000365</td>\n",
       "    </tr>\n",
       "  </tbody>\n",
       "</table>\n",
       "</div>"
      ],
      "text/plain": [
       "  alpha_ratio_loss batch_size_used    Top-10               Top-5            \\\n",
       "                                        mean       sem      mean       sem   \n",
       "0              0.0              32  0.706468  0.003139  0.624378  0.006468   \n",
       "1              0.0              64  0.706841  0.001385  0.624129  0.007735   \n",
       "2              0.0             128  0.707463  0.002428  0.623881  0.007363   \n",
       "3              0.1              32  0.703358  0.002484  0.628358  0.003756   \n",
       "4              0.1              64  0.709080  0.002125  0.629602  0.005738   \n",
       "5              0.1             128  0.707338  0.001558  0.626119  0.006934   \n",
       "\n",
       "        MSE            \n",
       "       mean       sem  \n",
       "0  0.012006  0.000240  \n",
       "1  0.012137  0.000319  \n",
       "2  0.012064  0.000306  \n",
       "3  0.012225  0.000421  \n",
       "4  0.011985  0.000338  \n",
       "5  0.012188  0.000365  "
      ]
     },
     "execution_count": 249,
     "metadata": {},
     "output_type": "execute_result"
    }
   ],
   "source": [
    "df_print[0]\n",
    "# df_print[0]"
   ]
  },
  {
   "cell_type": "code",
   "execution_count": 250,
   "metadata": {},
   "outputs": [
    {
     "data": {
      "text/html": [
       "<div>\n",
       "<style scoped>\n",
       "    .dataframe tbody tr th:only-of-type {\n",
       "        vertical-align: middle;\n",
       "    }\n",
       "\n",
       "    .dataframe tbody tr th {\n",
       "        vertical-align: top;\n",
       "    }\n",
       "\n",
       "    .dataframe thead th {\n",
       "        text-align: right;\n",
       "    }\n",
       "</style>\n",
       "<table border=\"1\" class=\"dataframe\">\n",
       "  <thead>\n",
       "    <tr style=\"text-align: right;\">\n",
       "      <th></th>\n",
       "      <th>$\\alpha$</th>\n",
       "      <th>Batch size</th>\n",
       "      <th>Top-10 [\\%]</th>\n",
       "      <th>Top-5 [\\%]</th>\n",
       "      <th>MSE [1e+02]</th>\n",
       "    </tr>\n",
       "  </thead>\n",
       "  <tbody>\n",
       "    <tr>\n",
       "      <th>0</th>\n",
       "      <td>0.0</td>\n",
       "      <td>32</td>\n",
       "      <td>70.6 $\\pm$ 0.3</td>\n",
       "      <td>62.4 $\\pm$ 0.6</td>\n",
       "      <td>1.20 $\\pm$ 0.02</td>\n",
       "    </tr>\n",
       "    <tr>\n",
       "      <th>1</th>\n",
       "      <td>0.0</td>\n",
       "      <td>64</td>\n",
       "      <td>70.7 $\\pm$ 0.1</td>\n",
       "      <td>62.4 $\\pm$ 0.8</td>\n",
       "      <td>1.21 $\\pm$ 0.03</td>\n",
       "    </tr>\n",
       "    <tr>\n",
       "      <th>2</th>\n",
       "      <td>0.0</td>\n",
       "      <td>128</td>\n",
       "      <td>70.7 $\\pm$ 0.2</td>\n",
       "      <td>62.4 $\\pm$ 0.7</td>\n",
       "      <td>1.21 $\\pm$ 0.03</td>\n",
       "    </tr>\n",
       "    <tr>\n",
       "      <th>3</th>\n",
       "      <td>0.1</td>\n",
       "      <td>32</td>\n",
       "      <td>70.3 $\\pm$ 0.2</td>\n",
       "      <td>62.8 $\\pm$ 0.4</td>\n",
       "      <td>1.22 $\\pm$ 0.04</td>\n",
       "    </tr>\n",
       "    <tr>\n",
       "      <th>4</th>\n",
       "      <td>0.1</td>\n",
       "      <td>64</td>\n",
       "      <td>\\textbf{70.9 $\\pm$ 0.2}</td>\n",
       "      <td>\\textbf{63.0 $\\pm$ 0.6}</td>\n",
       "      <td>\\textbf{1.20 $\\pm$ 0.03}</td>\n",
       "    </tr>\n",
       "    <tr>\n",
       "      <th>5</th>\n",
       "      <td>0.1</td>\n",
       "      <td>128</td>\n",
       "      <td>70.7 $\\pm$ 0.2</td>\n",
       "      <td>62.6 $\\pm$ 0.7</td>\n",
       "      <td>1.22 $\\pm$ 0.04</td>\n",
       "    </tr>\n",
       "  </tbody>\n",
       "</table>\n",
       "</div>"
      ],
      "text/plain": [
       "  $\\alpha$  Batch size              Top-10 [\\%]               Top-5 [\\%]  \\\n",
       "0      0.0          32           70.6 $\\pm$ 0.3           62.4 $\\pm$ 0.6   \n",
       "1      0.0          64           70.7 $\\pm$ 0.1           62.4 $\\pm$ 0.8   \n",
       "2      0.0         128           70.7 $\\pm$ 0.2           62.4 $\\pm$ 0.7   \n",
       "3      0.1          32           70.3 $\\pm$ 0.2           62.8 $\\pm$ 0.4   \n",
       "4      0.1          64  \\textbf{70.9 $\\pm$ 0.2}  \\textbf{63.0 $\\pm$ 0.6}   \n",
       "5      0.1         128           70.7 $\\pm$ 0.2           62.6 $\\pm$ 0.7   \n",
       "\n",
       "                MSE [1e+02]  \n",
       "0           1.20 $\\pm$ 0.02  \n",
       "1           1.21 $\\pm$ 0.03  \n",
       "2           1.21 $\\pm$ 0.03  \n",
       "3           1.22 $\\pm$ 0.04  \n",
       "4  \\textbf{1.20 $\\pm$ 0.03}  \n",
       "5           1.22 $\\pm$ 0.04  "
      ]
     },
     "execution_count": 250,
     "metadata": {},
     "output_type": "execute_result"
    }
   ],
   "source": [
    "df_print[1]"
   ]
  },
  {
   "cell_type": "code",
   "execution_count": 245,
   "metadata": {},
   "outputs": [
    {
     "name": "stdout",
     "output_type": "stream",
     "text": [
      "object\n",
      "int64\n",
      "object\n",
      "object\n",
      "object\n"
     ]
    }
   ],
   "source": [
    "for c in df_print[1].columns:\n",
    "    print(df_print[1][c].dtype)"
   ]
  },
  {
   "cell_type": "code",
   "execution_count": 241,
   "metadata": {},
   "outputs": [
    {
     "data": {
      "text/plain": [
       "[1]"
      ]
     },
     "execution_count": 241,
     "metadata": {},
     "output_type": "execute_result"
    }
   ],
   "source": [
    "tmp = [1, 2]\n",
    "tmp.remove(2)\n",
    "tmp"
   ]
  }
 ],
 "metadata": {
  "kernelspec": {
   "display_name": "satbird",
   "language": "python",
   "name": "python3"
  },
  "language_info": {
   "codemirror_mode": {
    "name": "ipython",
    "version": 3
   },
   "file_extension": ".py",
   "mimetype": "text/x-python",
   "name": "python",
   "nbconvert_exporter": "python",
   "pygments_lexer": "ipython3",
   "version": "3.10.13"
  }
 },
 "nbformat": 4,
 "nbformat_minor": 2
}
