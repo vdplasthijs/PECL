{
 "cells": [
  {
   "cell_type": "code",
   "execution_count": 1,
   "metadata": {},
   "outputs": [],
   "source": [
    "%load_ext autoreload\n",
    "%autoreload 2"
   ]
  },
  {
   "cell_type": "code",
   "execution_count": 2,
   "metadata": {},
   "outputs": [
    {
     "name": "stdout",
     "output_type": "stream",
     "text": [
      "Font size is set to 10\n"
     ]
    }
   ],
   "source": [
    "import os, sys \n",
    "import numpy as np \n",
    "import pandas as pd \n",
    "import matplotlib.pyplot as plt\n",
    "import geopandas as gpd\n",
    "sys.path.append('../scripts/')\n",
    "import create_dataset_utils as cdu\n",
    "import paired_embeddings_models as pem\n",
    "import data_vis_utils as dvu"
   ]
  },
  {
   "cell_type": "code",
   "execution_count": 18,
   "metadata": {},
   "outputs": [],
   "source": [
    "path_data_indices = '/Users/t.vanderplas/Library/CloudStorage/OneDrive-TheAlanTuringInstitute/data/EIDC UKBMS/bdffdd79-7744-4d48-9f4f-d77a3ab98573/data/ukbmssiteindices2022.csv'\n",
    "path_site_locations = '/Users/t.vanderplas/Library/CloudStorage/OneDrive-TheAlanTuringInstitute/data/EIDC UKBMS/226979d4-6d81-4f5b-9bb7-4a430caa7f51/data/ukbmssitelocationdata2022.csv'"
   ]
  },
  {
   "cell_type": "code",
   "execution_count": 23,
   "metadata": {},
   "outputs": [],
   "source": [
    "df_indices = pd.read_csv(path_data_indices)\n",
    "df_locations = pd.read_csv(path_site_locations, sep=\",\", encoding='cp1252')"
   ]
  },
  {
   "cell_type": "code",
   "execution_count": 24,
   "metadata": {},
   "outputs": [
    {
     "data": {
      "text/html": [
       "<div>\n",
       "<style scoped>\n",
       "    .dataframe tbody tr th:only-of-type {\n",
       "        vertical-align: middle;\n",
       "    }\n",
       "\n",
       "    .dataframe tbody tr th {\n",
       "        vertical-align: top;\n",
       "    }\n",
       "\n",
       "    .dataframe thead th {\n",
       "        text-align: right;\n",
       "    }\n",
       "</style>\n",
       "<table border=\"1\" class=\"dataframe\">\n",
       "  <thead>\n",
       "    <tr style=\"text-align: right;\">\n",
       "      <th></th>\n",
       "      <th>SITE_CODE</th>\n",
       "      <th>COUNTRY</th>\n",
       "      <th>SPECIES_CODE</th>\n",
       "      <th>SPECIES</th>\n",
       "      <th>COMMON_NAME</th>\n",
       "      <th>YEAR</th>\n",
       "      <th>SITE_INDEX</th>\n",
       "    </tr>\n",
       "  </thead>\n",
       "  <tbody>\n",
       "    <tr>\n",
       "      <th>0</th>\n",
       "      <td>1</td>\n",
       "      <td>England</td>\n",
       "      <td>84</td>\n",
       "      <td>Aglais io</td>\n",
       "      <td>Peacock</td>\n",
       "      <td>1976</td>\n",
       "      <td>21</td>\n",
       "    </tr>\n",
       "    <tr>\n",
       "      <th>1</th>\n",
       "      <td>1</td>\n",
       "      <td>England</td>\n",
       "      <td>84</td>\n",
       "      <td>Aglais io</td>\n",
       "      <td>Peacock</td>\n",
       "      <td>1977</td>\n",
       "      <td>7</td>\n",
       "    </tr>\n",
       "    <tr>\n",
       "      <th>2</th>\n",
       "      <td>1</td>\n",
       "      <td>England</td>\n",
       "      <td>84</td>\n",
       "      <td>Aglais io</td>\n",
       "      <td>Peacock</td>\n",
       "      <td>1978</td>\n",
       "      <td>7</td>\n",
       "    </tr>\n",
       "    <tr>\n",
       "      <th>3</th>\n",
       "      <td>1</td>\n",
       "      <td>England</td>\n",
       "      <td>84</td>\n",
       "      <td>Aglais io</td>\n",
       "      <td>Peacock</td>\n",
       "      <td>1979</td>\n",
       "      <td>30</td>\n",
       "    </tr>\n",
       "    <tr>\n",
       "      <th>4</th>\n",
       "      <td>1</td>\n",
       "      <td>England</td>\n",
       "      <td>84</td>\n",
       "      <td>Aglais io</td>\n",
       "      <td>Peacock</td>\n",
       "      <td>1980</td>\n",
       "      <td>41</td>\n",
       "    </tr>\n",
       "  </tbody>\n",
       "</table>\n",
       "</div>"
      ],
      "text/plain": [
       "   SITE_CODE  COUNTRY  SPECIES_CODE    SPECIES COMMON_NAME  YEAR  SITE_INDEX\n",
       "0          1  England            84  Aglais io     Peacock  1976          21\n",
       "1          1  England            84  Aglais io     Peacock  1977           7\n",
       "2          1  England            84  Aglais io     Peacock  1978           7\n",
       "3          1  England            84  Aglais io     Peacock  1979          30\n",
       "4          1  England            84  Aglais io     Peacock  1980          41"
      ]
     },
     "execution_count": 24,
     "metadata": {},
     "output_type": "execute_result"
    }
   ],
   "source": [
    "df_indices.head()"
   ]
  },
  {
   "cell_type": "code",
   "execution_count": 31,
   "metadata": {},
   "outputs": [
    {
     "name": "stdout",
     "output_type": "stream",
     "text": [
      "There are 4299 sites, 50 years and 60 species, resulting in 12897000 combinations\n",
      "Total number of records: 727391 (=0.056 fraction of all combinations)\n"
     ]
    }
   ],
   "source": [
    "n_sites = df_indices.SITE_CODE.nunique()\n",
    "n_years = df_indices.YEAR.nunique()\n",
    "n_species = df_indices.SPECIES_CODE.nunique()\n",
    "\n",
    "n_combis = n_sites * n_years * n_species\n",
    "print(f\"There are {n_sites} sites, {n_years} years and {n_species} species, resulting in {n_combis} combinations\")\n",
    "print(f\"Total number of records: {df_indices.shape[0]} (={df_indices.shape[0]/n_combis:.3f} fraction of all combinations)\")\n"
   ]
  },
  {
   "cell_type": "code",
   "execution_count": 25,
   "metadata": {},
   "outputs": [
    {
     "data": {
      "text/html": [
       "<div>\n",
       "<style scoped>\n",
       "    .dataframe tbody tr th:only-of-type {\n",
       "        vertical-align: middle;\n",
       "    }\n",
       "\n",
       "    .dataframe tbody tr th {\n",
       "        vertical-align: top;\n",
       "    }\n",
       "\n",
       "    .dataframe thead th {\n",
       "        text-align: right;\n",
       "    }\n",
       "</style>\n",
       "<table border=\"1\" class=\"dataframe\">\n",
       "  <thead>\n",
       "    <tr style=\"text-align: right;\">\n",
       "      <th></th>\n",
       "      <th>Site_Number</th>\n",
       "      <th>Site_Name</th>\n",
       "      <th>Gridreference</th>\n",
       "      <th>Easting</th>\n",
       "      <th>Northing</th>\n",
       "      <th>Length</th>\n",
       "      <th>Country</th>\n",
       "      <th>N_sections</th>\n",
       "      <th>N_yrs_surveyed</th>\n",
       "      <th>First_year_surveyed</th>\n",
       "      <th>Last_year_surveyed</th>\n",
       "      <th>Survey_type</th>\n",
       "    </tr>\n",
       "  </thead>\n",
       "  <tbody>\n",
       "    <tr>\n",
       "      <th>0</th>\n",
       "      <td>1</td>\n",
       "      <td>Woodwalton Farm</td>\n",
       "      <td>TL214817</td>\n",
       "      <td>521400</td>\n",
       "      <td>281700</td>\n",
       "      <td>2038.0</td>\n",
       "      <td>England</td>\n",
       "      <td>12.0</td>\n",
       "      <td>47</td>\n",
       "      <td>1976</td>\n",
       "      <td>2022</td>\n",
       "      <td>UKBMS</td>\n",
       "    </tr>\n",
       "    <tr>\n",
       "      <th>1</th>\n",
       "      <td>2</td>\n",
       "      <td>Bevill's Wood</td>\n",
       "      <td>TL203794</td>\n",
       "      <td>520300</td>\n",
       "      <td>279400</td>\n",
       "      <td>1532.0</td>\n",
       "      <td>England</td>\n",
       "      <td>10.0</td>\n",
       "      <td>44</td>\n",
       "      <td>1974</td>\n",
       "      <td>2017</td>\n",
       "      <td>UKBMS</td>\n",
       "    </tr>\n",
       "    <tr>\n",
       "      <th>2</th>\n",
       "      <td>3</td>\n",
       "      <td>Holkham</td>\n",
       "      <td>TF873453</td>\n",
       "      <td>587300</td>\n",
       "      <td>345300</td>\n",
       "      <td>3454.0</td>\n",
       "      <td>England</td>\n",
       "      <td>6.0</td>\n",
       "      <td>45</td>\n",
       "      <td>1976</td>\n",
       "      <td>2022</td>\n",
       "      <td>UKBMS</td>\n",
       "    </tr>\n",
       "    <tr>\n",
       "      <th>3</th>\n",
       "      <td>4</td>\n",
       "      <td>Monks Wood</td>\n",
       "      <td>TL198801</td>\n",
       "      <td>519800</td>\n",
       "      <td>280100</td>\n",
       "      <td>2900.0</td>\n",
       "      <td>England</td>\n",
       "      <td>14.0</td>\n",
       "      <td>50</td>\n",
       "      <td>1973</td>\n",
       "      <td>2022</td>\n",
       "      <td>UKBMS</td>\n",
       "    </tr>\n",
       "    <tr>\n",
       "      <th>4</th>\n",
       "      <td>5</td>\n",
       "      <td>Monks Wood Fields</td>\n",
       "      <td>TL200800</td>\n",
       "      <td>520000</td>\n",
       "      <td>280000</td>\n",
       "      <td>NaN</td>\n",
       "      <td>England</td>\n",
       "      <td>15.0</td>\n",
       "      <td>3</td>\n",
       "      <td>1974</td>\n",
       "      <td>1976</td>\n",
       "      <td>UKBMS</td>\n",
       "    </tr>\n",
       "  </tbody>\n",
       "</table>\n",
       "</div>"
      ],
      "text/plain": [
       "   Site_Number          Site_Name Gridreference  Easting  Northing  Length  \\\n",
       "0            1    Woodwalton Farm      TL214817   521400    281700  2038.0   \n",
       "1            2      Bevill's Wood      TL203794   520300    279400  1532.0   \n",
       "2            3            Holkham      TF873453   587300    345300  3454.0   \n",
       "3            4         Monks Wood      TL198801   519800    280100  2900.0   \n",
       "4            5  Monks Wood Fields      TL200800   520000    280000     NaN   \n",
       "\n",
       "   Country  N_sections  N_yrs_surveyed  First_year_surveyed  \\\n",
       "0  England        12.0              47                 1976   \n",
       "1  England        10.0              44                 1974   \n",
       "2  England         6.0              45                 1976   \n",
       "3  England        14.0              50                 1973   \n",
       "4  England        15.0               3                 1974   \n",
       "\n",
       "   Last_year_surveyed Survey_type  \n",
       "0                2022       UKBMS  \n",
       "1                2017       UKBMS  \n",
       "2                2022       UKBMS  \n",
       "3                2022       UKBMS  \n",
       "4                1976       UKBMS  "
      ]
     },
     "execution_count": 25,
     "metadata": {},
     "output_type": "execute_result"
    }
   ],
   "source": [
    "df_locations.head()"
   ]
  },
  {
   "cell_type": "code",
   "execution_count": 28,
   "metadata": {},
   "outputs": [
    {
     "data": {
      "text/plain": [
       "<Axes: >"
      ]
     },
     "execution_count": 28,
     "metadata": {},
     "output_type": "execute_result"
    },
    {
     "data": {
      "image/png": "[encoded data removed]",
      "text/plain": [
       "<Figure size 640x480 with 1 Axes>"
      ]
     },
     "metadata": {},
     "output_type": "display_data"
    }
   ],
   "source": [
    "gdf_locations = gpd.GeoDataFrame(df_locations, geometry=gpd.points_from_xy(df_locations.Easting, df_locations.Northing))\n",
    "gdf_locations.plot()"
   ]
  },
  {
   "cell_type": "code",
   "execution_count": 15,
   "metadata": {},
   "outputs": [
    {
     "name": "stdout",
     "output_type": "stream",
     "text": [
      "n species: 60\n",
      "n sites: 4299\n"
     ]
    }
   ],
   "source": [
    "assert df_indices.SPECIES_CODE.nunique() == df_indices.SPECIES.nunique()\n",
    "print(f'n species: {df_indices.SPECIES_CODE.nunique()}')\n",
    "print(f'n sites: {df_indices.SITE_CODE.nunique()}')"
   ]
  },
  {
   "cell_type": "code",
   "execution_count": 17,
   "metadata": {},
   "outputs": [
    {
     "data": {
      "text/plain": [
       "array([    -2,      0,      1, ..., 230652, 251961, 257446])"
      ]
     },
     "execution_count": 17,
     "metadata": {},
     "output_type": "execute_result"
    }
   ],
   "source": [
    "np.sort(df_indices.SITE_INDEX.unique())"
   ]
  },
  {
   "cell_type": "code",
   "execution_count": null,
   "metadata": {},
   "outputs": [],
   "source": []
  }
 ],
 "metadata": {
  "kernelspec": {
   "display_name": "satbird",
   "language": "python",
   "name": "python3"
  },
  "language_info": {
   "codemirror_mode": {
    "name": "ipython",
    "version": 3
   },
   "file_extension": ".py",
   "mimetype": "text/x-python",
   "name": "python",
   "nbconvert_exporter": "python",
   "pygments_lexer": "ipython3",
   "version": "3.10.13"
  }
 },
 "nbformat": 4,
 "nbformat_minor": 2
}
